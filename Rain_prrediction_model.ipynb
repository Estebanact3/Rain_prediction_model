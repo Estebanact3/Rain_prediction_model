{
  "nbformat": 4,
  "nbformat_minor": 0,
  "metadata": {
    "colab": {
      "provenance": [],
      "collapsed_sections": [],
      "include_colab_link": true
    },
    "kernelspec": {
      "name": "python3",
      "display_name": "Python 3"
    },
    "language_info": {
      "name": "python"
    },
    "accelerator": "GPU",
    "gpuClass": "standard"
  },
  "cells": [
    {
      "cell_type": "markdown",
      "metadata": {
        "id": "view-in-github",
        "colab_type": "text"
      },
      "source": [
        "<a href=\"https://colab.research.google.com/github/Estebanact3/Rain_prediction_model/blob/main/Rain_prrediction_model.ipynb\" target=\"_parent\"><img src=\"https://colab.research.google.com/assets/colab-badge.svg\" alt=\"Open In Colab\"/></a>"
      ]
    },
    {
      "cell_type": "markdown",
      "source": [
        "# **Práctica #1: Modelo para predicción de lluvia**\n",
        "\n",
        "*Centro Universitario de Ciencias Exactas e Ingenierías*\n",
        "\n",
        "*División de Tecnologías para la Integración Ciber-Humana*\n",
        "\n",
        "*Ingeniería Biomédica*\n",
        "\n",
        "<br>\n",
        "\n",
        "*Mtra. Sofía Alejandra Aguilar Valdez*\n",
        "\n",
        "2 de septiembre de 2022"
      ],
      "metadata": {
        "id": "nVx-kou4pjFk"
      }
    },
    {
      "cell_type": "markdown",
      "source": [
        "## **Información del equipo**\n",
        "\n",
        "```NOMBRES:```\n",
        "\n",
        "*   Edgar Giovanni Acosta Martínez\n",
        "*   Esteban Gómez Fuentes\n",
        "*   Leopoldo Benjamín López Novoa\n",
        "\n",
        "```CÓDIGOS:```\n",
        "\n",
        "*   216590878\n",
        "*   217593587\n",
        "\n",
        "```LINK REPOSITORIO:```\n",
        "\n",
        "https://github.com/Estebanact3/Rain_prediction_model/tree/main\n"
      ],
      "metadata": {
        "id": "dQNzG9Wm4ZQJ"
      }
    },
    {
      "cell_type": "markdown",
      "source": [
        "## **Contenido**\n",
        "\n",
        "\n",
        "\n",
        "1.   Resumen\n",
        "2.   Marco teórico\n",
        "3.   Objetivos\n",
        "4.   Materiales y métodos\n",
        "5.   Resultados\n",
        "6.   Discusión\n",
        "7.   Conclusiones\n",
        "8.   Referencias\n",
        "\n"
      ],
      "metadata": {
        "id": "QQ_tQMMJpude"
      }
    },
    {
      "cell_type": "markdown",
      "source": [
        "# **1. Resumen**\n",
        "La idea es generar una red neuronal de aprendizaje supervisado, del tipo “perceptrón multicapa”. La red está organizada de manera secuencial, lo que nos da la posibilidad de que cada una de las neuronas se conecte con la capa posterior. \n",
        " Se utilizó la librería Pandas para el análisis de la base de datos y la librería Pytorch para crear la red neuronal de tipo perceptrón. En este modelo se propone una red neuronal con 3 neuronas de entrada que representan las variables de la red (temperatura máxima, temperatura mínima y precipitación). La red cuenta con una sola neurona de salida la cual indica la probabilidad de que llueva utilizando valores entre 0 y 1, donde los valores cercanos a 0 indican que no lloverá, caso contrario con los valores cercanos a 1, una vez que se establece su estructura y variables se cargan la información de la base de datos. Estos datos se convierten a tensores, se realiza una separación de datos en entrenamiento, validación y test. Ahora es cuando se define la función de costo, la tasa de aprendizaje y el optimizador, ósea la frecuencia de las “interpolaciones” que debe de realizar el algoritmo para aproximarse al resultado real, una vez que el algoritmo tiene toda esta información se procede a entrenarlo para que maneje los datos que se le asignan. Una vez entrenando es importante revisar los resultados y la precisión de estos mismos con respecto al resultado real, el cual comenzó con una exactitud del 70% pero después de llegar a la época 5 este obtuvo una exactitud del 84%. \n"
      ],
      "metadata": {
        "id": "anvzyOk06GH5"
      }
    },
    {
      "cell_type": "markdown",
      "source": [
        "# **2. Marco teórico**\n",
        "Un perceptrón es una neurona artificial, y, por tanto, una unidad de red neuronal. El perceptrón efectúa cálculos para detectar características o tendencias en los datos de entrada. Se trata de un algoritmo para el aprendizaje supervisado de clasificadores binarios. Ese algoritmo es el que permite que las neuronas artificiales aprendan y traten los elementos de una serie de datos.  El perceptrón desempeña un papel esencial en los proyectos de Machine Learning. Se utiliza en gran medida para clasificar datos, o como algoritmo que permite simplificar o supervisar las capacidades de aprendizaje de los clasificadores binarios. \n",
        "Recordemos que el aprendizaje supervisado consiste en enseñar a un algoritmo a hacer predicciones. Para conseguirlo, se alimenta el algoritmo con ayuda de datos que ya están etiquetados correctamente.\n",
        "Según la Perceptron Learning Rule (regla de aprendizaje del perceptrón), el algoritmo enseña automáticamente los coeficientes de peso óptimo. Para determinar si una neurona “se enciende” o no, las características de los datos de entrada se multiplican por esos pesos. El perceptrón recibe múltiples señales de entrada. Si la suma de las señales supera un umbral determinado, se produce una señal o, por el contrario, no se emite ningún resultado. \n",
        "En el marco del método de aprendizaje supervisado de Machine Learning, es lo que permite predecir la categoría de una muestra de datos. Por tanto, se trata de un elemento esencial. En realidad, el perceptrón es una función matemática. Los datos de entrada (x) se multiplican por los coeficientes de peso (w). El resultado es un valor. Ese valor puede ser positivo o negativo. La neurona artificial se activa si el valor es positivo. Solo se activa si el peso calculado de los datos de entrada supera un umbral determinado.  El resultado predicho se compara con el resultado conocido. En caso de diferencia, el error se retropropaga para permitir ajustar los pesos.\n",
        "Distinguimos dos tipos de perceptrón: con capa única y multicapas. Un perceptrón con capa única puede enseñar únicamente funciones lineales separables.  Un perceptrón multicapas, también llamado red neuronal “feed-forward” permite superar ese límite y ofrece una potencia de cálculo superior. También es posible combinar varios perceptrones para crear un mecanismo poderoso.\n",
        "En resumidas cuentas, una red neuronal es un conjunto de perceptrones interconectados. Su funcionamiento se basa en operaciones de multiplicación entre dos componentes importantes: las entradas de datos (input) y el peso. La suma de esa multiplicación se transmite a una función de activación, que determina un valor binario de 0 o 1. Lo que permite clasificar los datos.\n",
        "\n",
        "\n",
        "*Método de aprendizaje backpropagation:*\n",
        "\n",
        "\n",
        "Se trata de un método de cálculo que se emplea, para entrenar sistemas para este tipo de aprendizaje automático. Para ello se emplea un método de dos fases, de adaptación-propagación. Este proceso es especialmente importante ya que, a medida que se entrena una red neuronal, los nodos de las capas intermedias son capaces de organizarse por si mismas. De esta manera, cada uno de estos nodos son capaces de aprender a reconocer distintas características de los datos de entrada. Gracias al método de backpropagation las redes neuronales son capaces de identificar patrones de datos incompletos o arbitrarios y encontrar la solución más adecuada para el problema que se les haya planteado ya que serán capaces de hallar un patrón similar a las características que hayan aprendido a reconocer durante su entrenamiento.\n",
        "\n",
        "\n",
        "*Descenso de gradiente estocástico:*\n",
        "\n",
        "\n",
        "El Descenso de Gradientes Estocástico (SGD) es un enfoque simple pero muy eficiente para el aprendizaje discriminatorio de clasificadores lineales bajo funciones de pérdida convexa tales como Máquinas Vectoriales de Soporte (lineal) y Regresión Logística.\n"
      ],
      "metadata": {
        "id": "E8r4C9H26UTK"
      }
    },
    {
      "cell_type": "markdown",
      "source": [
        "# **3. Objetivos**\n",
        "\n",
        "## **Objetivo general**: Desarrollar una red neuronal capaz de predecir qué días lloverá a partir de datos de precipitación y temperatura\n",
        "\n",
        "## **Objetivos específicos**:\n",
        "\n",
        "\n",
        "*   Analizar la base de datos proporcionada utilizando la libreria Pandas de Python.\n",
        "*   Procesar la base de datos para obtener los datos de tipo tensor que se necesitan para la red neuronal.\n",
        "*   Crear una red neuronal de tipo perceptron multicapa utilizando la libreria Pytorch de Python\n",
        "*   Analizar la exactitud y la función de costo del entrenamiento de la red neuronal\n",
        "\n",
        "\n",
        "\n"
      ],
      "metadata": {
        "id": "Tcx3QvQN6hWe"
      }
    },
    {
      "cell_type": "markdown",
      "source": [
        "# **4. Materiales y métodos**\n",
        "\n",
        "## *Materiales*\n",
        "\n",
        "El conjunto de datos [[1]](https://www.kaggle.com/code/fatmakursun/rain-forecasting-with-artificial-neural-network/data). utilizado contiene registros completos de patrones de lluvia diarios desde el 01 de enero de 1948 hasta el 12 de diciembre de 2017.\n",
        "\n",
        "Los datos fueron recolectados desde el Aeropuerto Internacial de Seattle-Tacoma. Los datos están organizados en 5 columnas:\n",
        "\n",
        "DATE = La fecha de las observaciones.\n",
        "\n",
        "PRCP = La cantidad de precipitación, en pulgadas.\n",
        "\n",
        "TMAX = La máxima temperátura presentada en ese día, en grados Fahrenheit.\n",
        "\n",
        "TMIN = La mínima temperatura presentada en ese día, en grados Fahrenheit.\n",
        "\n",
        "RAIN = Muestra TRUE si ese día llovió, o False, si no se presentó lluvia.\n",
        "\n",
        "## *Métodos*\n",
        "\n",
        "1. **Esquema de metodología**\n",
        "\n",
        "\n",
        "Para poder realizar la predicción de la lluvia, se utilizará una red neuronal con aprendizaje supervizado. El tipo de red neuronal será un perceptrón multicapa, con una organización secuencial, donde cada una de las neuronas se conecta a cada una de las neuronas de la capa posterior.\n",
        "\n",
        "Para el modelo, se propone una red neuronal con 3 neuronas de entrada, donde cada neurona recibe una de las variables utilizada para entrenar la red: Precipitación (PRCP), temperatura máxima (TMAX), temperatura mínima (TMIN).\n",
        "\n",
        "La variable de la fecha (DATE) no se utilizará, debido al tipo de dato que es (tipo Object en Dataframe) y a la poca influencia de la fecha en cuanto a la posibilidad de que llueva, ya que con las otras tres variables es suficiente para poder generar una predicción acertada, debido a la relación tan intima entre la precipitación de la lluvia y la temperatura del ambiente.\n",
        "\n",
        "Se utilizará una neurona de salida, que representará la probabilidad de que llueva tomando en cuenta las variables ya explicadas. Está neurona nos mostrará valores entre 0 y 1, donde un valor cercano a 0 nos indica que no lloverá ese día, mientras que un valor cercano a 1 nos dice que lloverá en el día presentado.\n",
        "2. **Descripción de los métodos y su implementación en código en forma de narrativa**"
      ],
      "metadata": {
        "id": "4rX1w4ZD6mPj"
      }
    },
    {
      "cell_type": "markdown",
      "source": [
        "# **Carga y familiazarión con la base de datos**"
      ],
      "metadata": {
        "id": "fm7MDRJ4aqAd"
      }
    },
    {
      "cell_type": "code",
      "source": [
        "import pandas as pd\n",
        "import torch"
      ],
      "metadata": {
        "id": "lP9GMZWoQcAC"
      },
      "execution_count": null,
      "outputs": []
    },
    {
      "cell_type": "code",
      "source": [
        "from google.colab import drive\n",
        "drive.mount('/content/drive')"
      ],
      "metadata": {
        "colab": {
          "base_uri": "https://localhost:8080/"
        },
        "id": "yRoP-2s6QjR6",
        "outputId": "0de031fe-a982-4fbc-8203-622e64bada06"
      },
      "execution_count": null,
      "outputs": [
        {
          "output_type": "stream",
          "name": "stdout",
          "text": [
            "Mounted at /content/drive\n"
          ]
        }
      ]
    },
    {
      "cell_type": "code",
      "source": [
        "data_weather = pd.read_csv(\"/content/drive/MyDrive/seattleWeather_1948-2017.csv\")"
      ],
      "metadata": {
        "id": "lFVK29C3Qx3k"
      },
      "execution_count": null,
      "outputs": []
    },
    {
      "cell_type": "code",
      "source": [
        "data_weather.head()"
      ],
      "metadata": {
        "colab": {
          "base_uri": "https://localhost:8080/",
          "height": 206
        },
        "id": "Gy9UATOJReLo",
        "outputId": "2e4f9a53-0e33-4c60-d17d-969ddb400bf9"
      },
      "execution_count": null,
      "outputs": [
        {
          "output_type": "execute_result",
          "data": {
            "text/plain": [
              "         DATE  PRCP  TMAX  TMIN  RAIN\n",
              "0  1948-01-01  0.47    51    42  True\n",
              "1  1948-01-02  0.59    45    36  True\n",
              "2  1948-01-03  0.42    45    35  True\n",
              "3  1948-01-04  0.31    45    34  True\n",
              "4  1948-01-05  0.17    45    32  True"
            ],
            "text/html": [
              "\n",
              "  <div id=\"df-a3b55b40-78aa-4150-ab20-5f5d2d4c54b7\">\n",
              "    <div class=\"colab-df-container\">\n",
              "      <div>\n",
              "<style scoped>\n",
              "    .dataframe tbody tr th:only-of-type {\n",
              "        vertical-align: middle;\n",
              "    }\n",
              "\n",
              "    .dataframe tbody tr th {\n",
              "        vertical-align: top;\n",
              "    }\n",
              "\n",
              "    .dataframe thead th {\n",
              "        text-align: right;\n",
              "    }\n",
              "</style>\n",
              "<table border=\"1\" class=\"dataframe\">\n",
              "  <thead>\n",
              "    <tr style=\"text-align: right;\">\n",
              "      <th></th>\n",
              "      <th>DATE</th>\n",
              "      <th>PRCP</th>\n",
              "      <th>TMAX</th>\n",
              "      <th>TMIN</th>\n",
              "      <th>RAIN</th>\n",
              "    </tr>\n",
              "  </thead>\n",
              "  <tbody>\n",
              "    <tr>\n",
              "      <th>0</th>\n",
              "      <td>1948-01-01</td>\n",
              "      <td>0.47</td>\n",
              "      <td>51</td>\n",
              "      <td>42</td>\n",
              "      <td>True</td>\n",
              "    </tr>\n",
              "    <tr>\n",
              "      <th>1</th>\n",
              "      <td>1948-01-02</td>\n",
              "      <td>0.59</td>\n",
              "      <td>45</td>\n",
              "      <td>36</td>\n",
              "      <td>True</td>\n",
              "    </tr>\n",
              "    <tr>\n",
              "      <th>2</th>\n",
              "      <td>1948-01-03</td>\n",
              "      <td>0.42</td>\n",
              "      <td>45</td>\n",
              "      <td>35</td>\n",
              "      <td>True</td>\n",
              "    </tr>\n",
              "    <tr>\n",
              "      <th>3</th>\n",
              "      <td>1948-01-04</td>\n",
              "      <td>0.31</td>\n",
              "      <td>45</td>\n",
              "      <td>34</td>\n",
              "      <td>True</td>\n",
              "    </tr>\n",
              "    <tr>\n",
              "      <th>4</th>\n",
              "      <td>1948-01-05</td>\n",
              "      <td>0.17</td>\n",
              "      <td>45</td>\n",
              "      <td>32</td>\n",
              "      <td>True</td>\n",
              "    </tr>\n",
              "  </tbody>\n",
              "</table>\n",
              "</div>\n",
              "      <button class=\"colab-df-convert\" onclick=\"convertToInteractive('df-a3b55b40-78aa-4150-ab20-5f5d2d4c54b7')\"\n",
              "              title=\"Convert this dataframe to an interactive table.\"\n",
              "              style=\"display:none;\">\n",
              "        \n",
              "  <svg xmlns=\"http://www.w3.org/2000/svg\" height=\"24px\"viewBox=\"0 0 24 24\"\n",
              "       width=\"24px\">\n",
              "    <path d=\"M0 0h24v24H0V0z\" fill=\"none\"/>\n",
              "    <path d=\"M18.56 5.44l.94 2.06.94-2.06 2.06-.94-2.06-.94-.94-2.06-.94 2.06-2.06.94zm-11 1L8.5 8.5l.94-2.06 2.06-.94-2.06-.94L8.5 2.5l-.94 2.06-2.06.94zm10 10l.94 2.06.94-2.06 2.06-.94-2.06-.94-.94-2.06-.94 2.06-2.06.94z\"/><path d=\"M17.41 7.96l-1.37-1.37c-.4-.4-.92-.59-1.43-.59-.52 0-1.04.2-1.43.59L10.3 9.45l-7.72 7.72c-.78.78-.78 2.05 0 2.83L4 21.41c.39.39.9.59 1.41.59.51 0 1.02-.2 1.41-.59l7.78-7.78 2.81-2.81c.8-.78.8-2.07 0-2.86zM5.41 20L4 18.59l7.72-7.72 1.47 1.35L5.41 20z\"/>\n",
              "  </svg>\n",
              "      </button>\n",
              "      \n",
              "  <style>\n",
              "    .colab-df-container {\n",
              "      display:flex;\n",
              "      flex-wrap:wrap;\n",
              "      gap: 12px;\n",
              "    }\n",
              "\n",
              "    .colab-df-convert {\n",
              "      background-color: #E8F0FE;\n",
              "      border: none;\n",
              "      border-radius: 50%;\n",
              "      cursor: pointer;\n",
              "      display: none;\n",
              "      fill: #1967D2;\n",
              "      height: 32px;\n",
              "      padding: 0 0 0 0;\n",
              "      width: 32px;\n",
              "    }\n",
              "\n",
              "    .colab-df-convert:hover {\n",
              "      background-color: #E2EBFA;\n",
              "      box-shadow: 0px 1px 2px rgba(60, 64, 67, 0.3), 0px 1px 3px 1px rgba(60, 64, 67, 0.15);\n",
              "      fill: #174EA6;\n",
              "    }\n",
              "\n",
              "    [theme=dark] .colab-df-convert {\n",
              "      background-color: #3B4455;\n",
              "      fill: #D2E3FC;\n",
              "    }\n",
              "\n",
              "    [theme=dark] .colab-df-convert:hover {\n",
              "      background-color: #434B5C;\n",
              "      box-shadow: 0px 1px 3px 1px rgba(0, 0, 0, 0.15);\n",
              "      filter: drop-shadow(0px 1px 2px rgba(0, 0, 0, 0.3));\n",
              "      fill: #FFFFFF;\n",
              "    }\n",
              "  </style>\n",
              "\n",
              "      <script>\n",
              "        const buttonEl =\n",
              "          document.querySelector('#df-a3b55b40-78aa-4150-ab20-5f5d2d4c54b7 button.colab-df-convert');\n",
              "        buttonEl.style.display =\n",
              "          google.colab.kernel.accessAllowed ? 'block' : 'none';\n",
              "\n",
              "        async function convertToInteractive(key) {\n",
              "          const element = document.querySelector('#df-a3b55b40-78aa-4150-ab20-5f5d2d4c54b7');\n",
              "          const dataTable =\n",
              "            await google.colab.kernel.invokeFunction('convertToInteractive',\n",
              "                                                     [key], {});\n",
              "          if (!dataTable) return;\n",
              "\n",
              "          const docLinkHtml = 'Like what you see? Visit the ' +\n",
              "            '<a target=\"_blank\" href=https://colab.research.google.com/notebooks/data_table.ipynb>data table notebook</a>'\n",
              "            + ' to learn more about interactive tables.';\n",
              "          element.innerHTML = '';\n",
              "          dataTable['output_type'] = 'display_data';\n",
              "          await google.colab.output.renderOutput(dataTable, element);\n",
              "          const docLink = document.createElement('div');\n",
              "          docLink.innerHTML = docLinkHtml;\n",
              "          element.appendChild(docLink);\n",
              "        }\n",
              "      </script>\n",
              "    </div>\n",
              "  </div>\n",
              "  "
            ]
          },
          "metadata": {},
          "execution_count": 4
        }
      ]
    },
    {
      "cell_type": "code",
      "source": [
        "data_weather.dtypes"
      ],
      "metadata": {
        "colab": {
          "base_uri": "https://localhost:8080/"
        },
        "id": "keA2CwFLRyAj",
        "outputId": "1f5cd6c9-d097-4e30-ef6b-a8d623fd84e0"
      },
      "execution_count": null,
      "outputs": [
        {
          "output_type": "execute_result",
          "data": {
            "text/plain": [
              "DATE     object\n",
              "PRCP    float64\n",
              "TMAX      int64\n",
              "TMIN      int64\n",
              "RAIN     object\n",
              "dtype: object"
            ]
          },
          "metadata": {},
          "execution_count": 5
        }
      ]
    },
    {
      "cell_type": "code",
      "source": [
        "data_weather.shape"
      ],
      "metadata": {
        "colab": {
          "base_uri": "https://localhost:8080/"
        },
        "id": "RsHkeiE1bCoA",
        "outputId": "c9498e7a-2fa9-4cc6-cf6e-5590c3308260"
      },
      "execution_count": null,
      "outputs": [
        {
          "output_type": "execute_result",
          "data": {
            "text/plain": [
              "(25551, 5)"
            ]
          },
          "metadata": {},
          "execution_count": 6
        }
      ]
    },
    {
      "cell_type": "code",
      "source": [
        "data_weather = data_weather[data_weather[\"RAIN\"].notna()]\n",
        "\n",
        "data_weather.iloc[:,4]=data_weather[\"RAIN\"].astype(\"int64\")"
      ],
      "metadata": {
        "colab": {
          "base_uri": "https://localhost:8080/"
        },
        "id": "WriD1ofpoM66",
        "outputId": "4602e794-1889-4f75-e6cc-84924976ba61"
      },
      "execution_count": null,
      "outputs": [
        {
          "output_type": "stream",
          "name": "stderr",
          "text": [
            "/usr/local/lib/python3.7/dist-packages/pandas/core/indexing.py:1773: SettingWithCopyWarning: \n",
            "A value is trying to be set on a copy of a slice from a DataFrame.\n",
            "Try using .loc[row_indexer,col_indexer] = value instead\n",
            "\n",
            "See the caveats in the documentation: https://pandas.pydata.org/pandas-docs/stable/user_guide/indexing.html#returning-a-view-versus-a-copy\n",
            "  self._setitem_single_column(ilocs[0], value, pi)\n"
          ]
        }
      ]
    },
    {
      "cell_type": "code",
      "source": [
        "data_weather.shape"
      ],
      "metadata": {
        "colab": {
          "base_uri": "https://localhost:8080/"
        },
        "id": "fm9AwXc8vdVW",
        "outputId": "3d2cea68-99c9-4970-d21c-0530477b7e66"
      },
      "execution_count": null,
      "outputs": [
        {
          "output_type": "execute_result",
          "data": {
            "text/plain": [
              "(25548, 5)"
            ]
          },
          "metadata": {},
          "execution_count": 8
        }
      ]
    },
    {
      "cell_type": "code",
      "source": [
        "data_weather.dtypes"
      ],
      "metadata": {
        "colab": {
          "base_uri": "https://localhost:8080/"
        },
        "id": "JiooDW7soo6L",
        "outputId": "b54f5760-c181-4f75-f4a4-4885afeeed41"
      },
      "execution_count": null,
      "outputs": [
        {
          "output_type": "execute_result",
          "data": {
            "text/plain": [
              "DATE     object\n",
              "PRCP    float64\n",
              "TMAX      int64\n",
              "TMIN      int64\n",
              "RAIN      int64\n",
              "dtype: object"
            ]
          },
          "metadata": {},
          "execution_count": 9
        }
      ]
    },
    {
      "cell_type": "markdown",
      "source": [
        "# **Conversión de datos a tensores**"
      ],
      "metadata": {
        "id": "W790zFbm0deW"
      }
    },
    {
      "cell_type": "code",
      "source": [
        "class MyDataset():\n",
        " \n",
        "  def __init__(self,dataframe):\n",
        "  \n",
        "    x=dataframe.iloc[:,1:4].values\n",
        "    y=dataframe.iloc[:,4].values\n",
        " \n",
        "    self.x_train=torch.tensor(x,dtype=torch.float32).cuda()\n",
        "    self.y_train=torch.tensor(y,dtype=torch.float32).cuda()\n",
        "  def __len__(self):\n",
        "    return len(self.y_train)\n",
        "   \n",
        "  def __getitem__(self,idx):\n",
        "    return self.x_train[idx],self.y_train[idx]"
      ],
      "metadata": {
        "id": "MLoxoRgekfOa"
      },
      "execution_count": null,
      "outputs": []
    },
    {
      "cell_type": "code",
      "source": [
        "data_torch = MyDataset(data_weather)"
      ],
      "metadata": {
        "id": "jf_zD5ZLlCmH"
      },
      "execution_count": null,
      "outputs": []
    },
    {
      "cell_type": "markdown",
      "source": [
        "# **Separación de datos en entrenamiento, validación y test**"
      ],
      "metadata": {
        "id": "NdnN9xk_0z0f"
      }
    },
    {
      "cell_type": "code",
      "source": [
        "from torch.utils.data import random_split, DataLoader\n",
        "from torch import nn\n",
        "from torch.nn.functional import normalize\n",
        "from torchvision import datasets, transforms\n",
        "import torch.utils.data as data\n",
        "from torch.utils.data import Dataset\n",
        "import torch.nn.functional as F\n",
        "from torch import optim\n",
        "from torchvision import datasets, transforms"
      ],
      "metadata": {
        "id": "vLeVdwd1Ux2D"
      },
      "execution_count": null,
      "outputs": []
    },
    {
      "cell_type": "code",
      "source": [
        "train, val, test = random_split(data_torch,[round(len(data_torch.x_train)*0.85),round(len(data_torch.x_train)*0.14), round(len(data_torch.x_train)*.01)])\n",
        "\n"
      ],
      "metadata": {
        "id": "0oRAh-zaU_l9"
      },
      "execution_count": null,
      "outputs": []
    },
    {
      "cell_type": "code",
      "source": [
        "x_train, y_train = train[:]\n",
        "y_train.shape"
      ],
      "metadata": {
        "colab": {
          "base_uri": "https://localhost:8080/"
        },
        "id": "aSDhnQdxqNtq",
        "outputId": "aca7ee76-bb29-4672-da4e-fcfd038a0d89"
      },
      "execution_count": null,
      "outputs": [
        {
          "output_type": "execute_result",
          "data": {
            "text/plain": [
              "torch.Size([21716])"
            ]
          },
          "metadata": {},
          "execution_count": 14
        }
      ]
    },
    {
      "cell_type": "code",
      "source": [
        "x_val, y_val = val[:]\n",
        "y_val.shape"
      ],
      "metadata": {
        "colab": {
          "base_uri": "https://localhost:8080/"
        },
        "id": "-C40dBn_8Ya6",
        "outputId": "8f4a9967-c32c-4e55-aba0-133254d24228"
      },
      "execution_count": null,
      "outputs": [
        {
          "output_type": "execute_result",
          "data": {
            "text/plain": [
              "torch.Size([3577])"
            ]
          },
          "metadata": {},
          "execution_count": 15
        }
      ]
    },
    {
      "cell_type": "code",
      "source": [
        "x_test, y_test = test[:]\n",
        "y_test.shape"
      ],
      "metadata": {
        "colab": {
          "base_uri": "https://localhost:8080/"
        },
        "id": "P_tpVE2EAWNK",
        "outputId": "820eabbc-31e3-4424-9fd9-c2561e721231"
      },
      "execution_count": null,
      "outputs": [
        {
          "output_type": "execute_result",
          "data": {
            "text/plain": [
              "torch.Size([255])"
            ]
          },
          "metadata": {},
          "execution_count": 16
        }
      ]
    },
    {
      "cell_type": "code",
      "source": [
        "train_loader = DataLoader(train, batch_size= 32)\n",
        "val_loader = DataLoader(val, batch_size = 32)\n",
        "test_loader = DataLoader(test, batch_size = 256)"
      ],
      "metadata": {
        "id": "MKiH6_ext1YM"
      },
      "execution_count": null,
      "outputs": []
    },
    {
      "cell_type": "code",
      "source": [
        "for x_train, y_train in train_loader:\n",
        "  variable = x_train[0]\n",
        "  label = y_train[0]\n",
        "\n",
        "print(\"Variables: \", variable)\n",
        "print(\"Label: \", label)"
      ],
      "metadata": {
        "colab": {
          "base_uri": "https://localhost:8080/"
        },
        "id": "sKlgkew2uEpv",
        "outputId": "4e3d7914-81b6-4e7d-a1ad-03cf8bbd5b0f"
      },
      "execution_count": null,
      "outputs": [
        {
          "output_type": "stream",
          "name": "stdout",
          "text": [
            "Variables:  tensor([ 0.1400, 40.0000, 31.0000], device='cuda:0')\n",
            "Label:  tensor(1., device='cuda:0')\n"
          ]
        }
      ]
    },
    {
      "cell_type": "markdown",
      "source": [
        "# **Definir el modelo de red neuronal**"
      ],
      "metadata": {
        "id": "94HpDXXsuns4"
      }
    },
    {
      "cell_type": "code",
      "source": [
        "class red_neuron(nn.Module):\n",
        "    def __init__(self):\n",
        "        super().__init__()\n",
        "        self.l1 = nn.Linear(3,64)\n",
        "        self.l2 = nn.Linear(64,32)\n",
        "        self.l3 = nn.Linear(32,16)\n",
        "        self.l4 = nn.Linear(16,1)\n",
        "\n",
        "    def forward(self,x):\n",
        "        h1 = torch.sigmoid(input = self.l1(x))\n",
        "        h2 = torch.sigmoid(input = self.l2(h1))\n",
        "        h3 = torch.sigmoid(input = self.l3(h2))\n",
        "        h4 = torch.sigmoid(input = self.l4(h3))\n",
        "        return h4\n",
        "mod = red_neuron().cuda()"
      ],
      "metadata": {
        "id": "u51E-VbXunMW"
      },
      "execution_count": null,
      "outputs": []
    },
    {
      "cell_type": "markdown",
      "source": [
        "# **Definir la función de costo, la tasa de aprendizaje y el optimizador**"
      ],
      "metadata": {
        "id": "Mqr6dBMb1dOH"
      }
    },
    {
      "cell_type": "code",
      "source": [
        "lr = 0.01\n",
        "loss_fn = nn.BCELoss()\n",
        "#https://medium.com/dejunhuang/learning-day-57-practical-5-loss-function-crossentropyloss-vs-bceloss-in-pytorch-softmax-vs-bd866c8a0d23\n",
        "optimizer = torch.optim.Adam(params=mod.parameters(), lr=lr)\n",
        "print(\"Arquitectura del modelo: {}\".format(mod))"
      ],
      "metadata": {
        "colab": {
          "base_uri": "https://localhost:8080/"
        },
        "id": "avyM0HFQ1pXf",
        "outputId": "6938f953-db4f-4d15-eb59-35f6824359b1"
      },
      "execution_count": null,
      "outputs": [
        {
          "output_type": "stream",
          "name": "stdout",
          "text": [
            "Arquitectura del modelo: red_neuron(\n",
            "  (l1): Linear(in_features=3, out_features=64, bias=True)\n",
            "  (l2): Linear(in_features=64, out_features=32, bias=True)\n",
            "  (l3): Linear(in_features=32, out_features=16, bias=True)\n",
            "  (l4): Linear(in_features=16, out_features=1, bias=True)\n",
            ")\n"
          ]
        }
      ]
    },
    {
      "cell_type": "markdown",
      "source": [
        "# **Entrenamiento del modelo**"
      ],
      "metadata": {
        "id": "0NxncbvY1xMT"
      }
    },
    {
      "cell_type": "code",
      "source": [
        "epochs = 5\n",
        "estatus_print = 10\n",
        "historico = pd.DataFrame()\n",
        "print(\"Entrenando el modelo\")\n",
        "\n",
        "for epoch in range(1, epochs+1):\n",
        "  mod.train()\n",
        "  for batch in train_loader:\n",
        "    x,y = batch\n",
        "    y_pred= mod(x)\n",
        "    y_pred = y_pred.reshape(y.shape)\n",
        "    loss = loss_fn(input=y_pred, target=y)\n",
        "    loss.backward()\n",
        "    optimizer.step()\n",
        "    optimizer.zero_grad()\n",
        "    \n",
        "    if epoch % estatus_print == 0:\n",
        "        print(f\"\\nEpoch {epoch} \\t Loss: {round(loss.item(), 4)}\")\n",
        "    \n",
        "    mod.eval()\n",
        "    with torch.no_grad():\n",
        "      for batch in val_loader:\n",
        "        x_val,y_val = batch\n",
        "        y_pred = mod(x_val)\n",
        "        y_pred = y_pred.reshape(y_val.shape)\n",
        "        y_pred_class = y_pred.round()\n",
        "        correct = (y_pred_class == y_val).sum()\n",
        "        accuracy = 100 * correct / float(len(y_val))\n",
        "        if epoch % estatus_print == 0:\n",
        "            print(\"Accuracy: {}\".format(accuracy.item()))\n",
        "    \n",
        "    df_tmp = pd.DataFrame(data={\n",
        "        'Epoch': epoch,\n",
        "        'Loss': round(loss.item(), 4),\n",
        "        'Accuracy': round(accuracy.item(), 4)\n",
        "    }, index=[0])\n",
        "    historico = pd.concat(objs=[historico, df_tmp], ignore_index=True, sort=False)\n",
        "\n",
        "print(\"Accuracy final: {}\".format(round(accuracy.item(), 4)))"
      ],
      "metadata": {
        "colab": {
          "base_uri": "https://localhost:8080/"
        },
        "id": "96cHUY2u790X",
        "outputId": "b3417bf7-ddc1-4e62-bf81-85627d0df020"
      },
      "execution_count": null,
      "outputs": [
        {
          "output_type": "stream",
          "name": "stdout",
          "text": [
            "Entrenando el modelo\n",
            "Accuracy final: 84.0\n"
          ]
        }
      ]
    },
    {
      "cell_type": "code",
      "source": [
        "import matplotlib.pyplot as plt\n",
        "%matplotlib inline\n",
        "\n",
        "plt.figure(figsize=(10, 10))\n",
        "plt.plot(historico[\"Epoch\"],historico[\"Loss\"])\n",
        "plt.title(\"Loss\", fontsize=25)\n",
        "plt.xlabel(\"Epoch\", fontsize=12)\n",
        "plt.ylabel(\"Loss\", fontsize=12)\n",
        "plt.grid()\n",
        "plt.show()"
      ],
      "metadata": {
        "colab": {
          "base_uri": "https://localhost:8080/",
          "height": 634
        },
        "id": "z7VO3pkjLgfU",
        "outputId": "8bfc66b3-d093-4790-edcc-1ffa804df4c5"
      },
      "execution_count": null,
      "outputs": [
        {
          "output_type": "display_data",
          "data": {
            "text/plain": [
              "<Figure size 720x720 with 1 Axes>"
            ],
            "image/png": "[encoded data removed]"
          },
          "metadata": {
            "needs_background": "light"
          }
        }
      ]
    },
    {
      "cell_type": "code",
      "source": [
        "plt.figure(figsize=(10, 10))\n",
        "plt.plot(historico['Epoch'], historico['Accuracy'], label='Accuracy')\n",
        "plt.title(\"Accuracy\", fontsize=25)\n",
        "plt.xlabel(\"Epoch\", fontsize=12)\n",
        "plt.ylabel(\"Accuracy\", fontsize=12)\n",
        "plt.grid()\n",
        "plt.show()"
      ],
      "metadata": {
        "colab": {
          "base_uri": "https://localhost:8080/",
          "height": 634
        },
        "id": "Gf0Ey-exM1Kb",
        "outputId": "8d9a9701-4942-4dfd-f0bc-d0de7d3b68a2"
      },
      "execution_count": null,
      "outputs": [
        {
          "output_type": "display_data",
          "data": {
            "text/plain": [
              "<Figure size 720x720 with 1 Axes>"
            ],
            "image/png": "[encoded data removed]"
          },
          "metadata": {
            "needs_background": "light"
          }
        }
      ]
    },
    {
      "cell_type": "markdown",
      "source": [
        "# **Comprobación de la exactitud del modelo**"
      ],
      "metadata": {
        "id": "6pT2pKOU2i7W"
      }
    },
    {
      "cell_type": "code",
      "source": [
        "for data, label in test_loader:\n",
        "  predict = mod(data)\n",
        "  correct = label\n"
      ],
      "metadata": {
        "id": "QLyfKpxgBobJ"
      },
      "execution_count": null,
      "outputs": []
    },
    {
      "cell_type": "code",
      "source": [
        "label = label.cpu()\n",
        "predict = predict.cpu()\n",
        "label = label.detach().numpy()\n",
        "predict = predict.detach().numpy()"
      ],
      "metadata": {
        "id": "Owj_eRIKFoit"
      },
      "execution_count": null,
      "outputs": []
    },
    {
      "cell_type": "code",
      "source": [
        "import numpy as np\n",
        "np.putmask(predict, predict<0.5, 0)\n",
        "np.putmask(predict, predict>=0.5,1)\n",
        "predict = predict.T"
      ],
      "metadata": {
        "id": "gw1ySWl0FJYB"
      },
      "execution_count": null,
      "outputs": []
    },
    {
      "cell_type": "code",
      "source": [
        "acc = label == predict"
      ],
      "metadata": {
        "id": "9QUtYCZXI-bZ"
      },
      "execution_count": null,
      "outputs": []
    },
    {
      "cell_type": "code",
      "source": [
        "unique, counts = np.unique(acc, return_counts=True)\n",
        "accuracy = counts[1]/(counts[0]+counts[1])*100\n",
        "accuracy"
      ],
      "metadata": {
        "colab": {
          "base_uri": "https://localhost:8080/"
        },
        "id": "aeswy2fgJn5C",
        "outputId": "a8c60d9a-877b-4bc6-e6b5-593cf4ca60e4"
      },
      "execution_count": null,
      "outputs": [
        {
          "output_type": "execute_result",
          "data": {
            "text/plain": [
              "83.13725490196079"
            ]
          },
          "metadata": {},
          "execution_count": 28
        }
      ]
    },
    {
      "cell_type": "markdown",
      "source": [
        "# **5. Resultados**\n",
        "(300-800 palabras, incluir mínimo 2 figuras).\n",
        "\n",
        "***Exactitud a través de las épocas de entrenamiento***\n",
        "\n",
        "En la siguiente figura, se observa la exactitud a lo largo de las 5 épocas de entrenamiento. Cada una de las lineas horizontales y diagonales muestran el punto en el cual se mantenia el grado de exactitud durante la época. Podemos observar que en la primera época la exactitud era un poco arriba de 70%, mientras que en la época 5 se obtuvo una exactitud del 84% aproximadamente.\n",
        "\n",
        "![accuracy.png](data:image/png;base64,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)\n",
        "\n",
        "***Función de costo a través de las épocas de entrenamiento***\n",
        "En la gráfica que aparece debajo, se muestra cómo fue disminuyendo la función de costo a lo largo del entrenamiento por épocas. Comenzando en la época 1 con un valor por encima de 0.5, y terminado en la época 5 con un valor muy cercano a 0.\n",
        "![loss.png](data:image/png;base64,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)\n",
        "\n",
        "Estos dos sucesos indican que la red neuronal aprendió de manera satisfactoria a predecir cuándo lloverá a partir de los datos introducidos. Debido a que la exactitud aumentó y la función de costo disminuyó conforme las épocas pasarón, la técnica de backpropagation permitió a la red aprender de una manera óptima."
      ],
      "metadata": {
        "id": "6s3y9-yUSCL9"
      }
    },
    {
      "cell_type": "markdown",
      "source": [
        "# **6. Discusión**\n",
        "La red neuronal no fue víctima del underfitting o del overfitting, que se nota la tendencia a disminuir en la función de costo a lo largo del entrenamiento, además en el aumento del porcentaje de presición de la predicción se puede apreciar como es que esta no fue víctima del overfitting ya que los datos adquiridos obtenian relevancia en el entrenamiento y se nota la tendencia de más precisión en cada etapa. El aprendizaje fue óptimo gracias a la implementación del algoritmo de backpropagation."
      ],
      "metadata": {
        "id": "AEt8aII8SPu6"
      }
    },
    {
      "cell_type": "markdown",
      "source": [
        "# **7. Conclusiones**\n",
        "\n",
        "*   Edgar Giovanni Acosta Martinez \n",
        "\n",
        "La implementación de esta primera red neuronal es bastante importante para entender los conceptos básicos sobre redes neuronales, ya que es posible apreciar muchas herramientas como lo son el algoritmo de backpropagation, el underfitting y el overfitting. Las predicciones de la red neuronal no son tan precisas ya que esta red no es de gran tamaño, sin embargo, para una predicción del clima es algo aceptable y el margen de error no es algo realmente significativo para el posible resultado arrojado por el algoritmo. En esta práctica se han sentado las bases sobre el aprendizaje de la red y los factores de los que este depende para mejorar.\n",
        "Algo a destacar es que la red neuronal no sufrió de Overfitting ya que logró predecir de una manera óptima el set de datos dedicado al testing.\n",
        "\n",
        "\n",
        "*   Esteban Gómez Fuentes\n",
        "\n",
        "El aprendizaje de la red neuronal fue satisfactorio ya que el porcentaje de precisión es relativamente alto, sin embargo, aún puede mejorar, para lo cual sería necesario realizar una red neuronal más compleja (con más épocas y neuronas, con ello más conexiones) lo cual le permite a la red tener un aprendizaje más profundo y prolongado para aumentar este porcentaje de precisión y mantenerlo cerca del 100%. Como primera red neuronal es bastante buena y para una predicción de la presencia o ausencia de lluvia es un resultado lo suficientemente convincente para tomar decisiones como el llevar un paraguas o no hacerlo. Una vez que entremos en predicciones para las cuales sea necesario más precisión, podremos contemplar el crear una red neuronal más compleja y contemplar el uso de otras librerías como “tenserflow”.\n",
        "\n",
        "*   Leopoldo Benjamín López Novoa\n",
        "\n",
        "Los resultados arrojados por la red neuronal son bastantes precisos para la poca cantidad de épocas con las que esta cuenta, cabe recalcar que es posible mejorar el porcentaje de precisión si se utiliza un algoritmo distinto que incluya más variables (que tengan relevancia con la predicción que se desea hacer), épocas y conexiones las cuales le darán mayor complejidad a la red y sus resultados. Obviamente sin descuidar el aprendizaje de esta para evitar que caiga víctima del overfitting o underfitting y no maneje los datos de la base de datos de una manera óptima y no se sobreentrene o se entrene de manera errónea."
      ],
      "metadata": {
        "id": "8Gb2ac0VSryX"
      }
    },
    {
      "cell_type": "markdown",
      "source": [
        "# **8. Referencias**\n",
        "\n",
        "[1] Pb, V. (2020, February 18). Perceptron. Kaggle. Retrieved June 1, 2022, from https://www.kaggle.com/code/prashfio/perceptron/notebook\n",
        "\n",
        "[2] Rédac, T. (2022, 7 julio). Perceptron : qu’est-ce que c’est et à quoi ça sert ? Formation Data Science | DataScientest.com. Recuperado 8 de septiembre de 2022, de https://datascientest.com/es/perceptron-que-es-y-para-que-sirve#:%7E:text=Un%20perceptr%C3%B3n%20es%20una%20neurona%20artificial%2C%20y%2C%20por%20tanto%2C,aprendizaje%20supervisado%20de%20clasificadores%20binarios.\n",
        "\n",
        "[3] School, T. (2022, 29 julio). Backpropagation en redes neuronales, ¿cómo funciona? Tokio School. Recuperado 8 de septiembre de 2022, de https://www.tokioschool.com/noticias/backpropagation-redes-neuronales/\n",
        "\n",
        "[4] Fernandez, R. (2019, 6 septiembre). Descenso de Gradientes Estocástico «SGD». ▷ Cursos de Programación de 0 a Experto © Garantizados. Recuperado 8 de septiembre de 2022, de https://unipython.com/descenso-gradientes-estocastico-sgd/#:%7E:text=El%20Descenso%20de%20Gradientes%20Estoc%C3%A1stico%20(SGD)%20es%20un%20enfoque%20simple,(lineal)%20y%20Regresi%C3%B3n%20Log%C3%ADstica."
      ],
      "metadata": {
        "id": "cxRqAiW5sG_m"
      }
    }
  ]
}